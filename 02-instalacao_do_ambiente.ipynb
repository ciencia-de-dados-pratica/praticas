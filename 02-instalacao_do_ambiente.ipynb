{
 "cells": [
  {
   "cell_type": "markdown",
   "metadata": {},
   "source": [
    "### Instalação do Ambiente\n",
    "\n",
    "#### Recomenda-se o uso do [Anaconda](https://www.anaconda.com/distribution/#download-section) (> 400 MB) ou do seu irmãozinho [Miniconda](https://conda.io/miniconda.html) (< 30MB)\n",
    "\n",
    "- Versões do Python\n",
    "    - Python 2.x\n",
    "    - Python 3.x\n",
    "        - Nossa preferência: Python 3.x\n",
    "- Versões para diferentes Sistemas Operacionais\n",
    "    - Windows\n",
    "    - Linux\n",
    "    - Mac OS\n",
    "- Comandos importantes do **Conda**:\n",
    "    - `conda list`\n",
    "    - `conda install <pacote>` \n",
    "    - `conda update <pacote>`\n",
    "- Caso instale o miniconda, instalar depois:\n",
    "    - `conda install jupyter`\n",
    "    - `conda install matplotlib`\n",
    "    - `conda install pandas`\n",
    "    - `conda install scikit-learn`\n",
    "    - `conda install xlrd`\n"
   ]
  },
  {
   "cell_type": "code",
   "execution_count": null,
   "metadata": {
    "collapsed": true
   },
   "outputs": [],
   "source": []
  }
 ],
 "metadata": {
  "anaconda-cloud": {},
  "kernelspec": {
   "display_name": "Python 3",
   "language": "python",
   "name": "python3"
  },
  "language_info": {
   "codemirror_mode": {
    "name": "ipython",
    "version": 3
   },
   "file_extension": ".py",
   "mimetype": "text/x-python",
   "name": "python",
   "nbconvert_exporter": "python",
   "pygments_lexer": "ipython3",
   "version": "3.6.1"
  }
 },
 "nbformat": 4,
 "nbformat_minor": 1
}
