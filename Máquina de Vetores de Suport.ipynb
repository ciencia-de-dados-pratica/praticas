{
 "cells": [
  {
   "cell_type": "markdown",
   "metadata": {},
   "source": [
    "# Máquina de Vetores de Suporte\n",
    "\n",
    " \n",
    "###### Definição\n",
    ">Uma máquina de vetores de suporte (SVM, do inglês: support vector machine) é um conceito na ciência da computação para um conjunto de métodos do aprendizado supervisionado que analisam os dados e reconhecem padrões, usado para classificação e análise de regressão. O SVM padrão toma como entrada um conjunto de dados e prediz, para cada entrada dada, qual de duas possíveis classes a entrada faz parte, o que faz do SVM um classificador linear binário não probabilístico.Dado um conjunto de exemplos de treinamento, cada um marcado como pertencente a uma de duas categorias, um algoritmo de treinamento do SVM constrói um modelo que atribui novos exemplos a uma categoria ou outra. Um modelo SVM é uma representação de exemplos como pontos no espaço, mapeados de maneira que os exemplos de cada categoria sejam divididos por um espaço claro que seja tão amplo quanto possível. Os novos exemplos são então mapeados no mesmo espaço e preditos como pertencentes a uma categoria baseados em qual o lado do espaço eles são colocados.\n",
    "\n",
    "\n",
    "Vamos criar um exemplo para entender o conceito. Nós temos uma população de amostras compostas por 50% de uma classe A e 50% uma classe B. Usando SVM, queremos identificar se uma amostra qualquer é da classe A ou da classe B. Este é um problema de análise de amostra de classificação. Usando um conjunto de regras, vamos tentar classificar a população em dois segmentos possíveis. A seguir temos  um gráfico de dispersão da amostra.\n",
    "\n",
    "![Gráfico de dispersão](https://drive.google.com/uc?id=1ERSrV7PMqYin_W-yQtpBx3egKzU4zYKG)\n",
    "\n",
    "Primeiramente para construir um SVM para classificar essas 2 classes, temos que descobrir qual a linha de decisão para o conjunto de dados, que é chamada de Hiperplano, para isso vamos descobrir o ponto medio entre as duas classes e desenhar uma linha que divide as duas classes.\n",
    "\n",
    "![Gráfico de dispersão com o hiperplano](https://drive.google.com/uc?id=1CAtQCCr8t7MMXWV00PwizdtiSS7ATCMn)\n",
    "\n",
    "Mas não podemos apenas desenhar essa linha temos que maximizar a área, para isso vamos definir os vetores de suporte, que são os pontos de cada uma das classes que estão mais próximos do limite de dicisão, e traçamos uma linha com os vetores de suporte, assim podemos construir o hiperplano e maximizar a margem entre essas linhas e as classes. No gráfico abaixo podemos ver como ficaria.\n",
    "\n",
    "![Gráfico de dispersão com o hiperplano e os vetores de suporte](https://drive.google.com/uc?id=1jyKrjkltFCbAf_ChLN0TpsAuMtB84oKR)\n",
    "\n",
    "\n",
    "SVM é muito usado para casos de classificação de dados (Caso principal de uso), Regressão, detecção de dados que estejam fora da linha. No geral SVM  é otimo para pequnos conjuntos de dados, e o intuito é desenhar uma linha, que seja o ponto medio entre esses dois conjuntos, de modo que quando nós plotarmos um novo dado esse ponto terá a maxima probabilidade de cair daquele lado limite de decisão que é sua categoria de classificação, e para isso maximizamos o espaço entre o hiperplano e os vetores de suporte. \n",
    "\n",
    "fonte: [Wikipédia](https://pt.wikipedia.org/wiki/M%C3%A1quina_de_vetores_de_suporte)\n",
    "       [Siraj Raval](https://www.youtube.com/watch?v=g8D5YL6cOSE)\n",
    "       \n",
    "###### Vamos colocar na pratica a teoria.\n"
   ]
  },
  {
   "cell_type": "code",
   "execution_count": 1,
   "metadata": {},
   "outputs": [],
   "source": [
    "import numpy as np\n",
    "import pandas as pd\n",
    "import matplotlib.pyplot as plt\n",
    "from sklearn import svm\n",
    "from sklearn.datasets import make_blobs\n",
    "from sklearn.model_selection import train_test_split\n",
    "from sklearn.metrics import accuracy_score"
   ]
  },
  {
   "cell_type": "markdown",
   "metadata": {},
   "source": [
    "Vamos usar o make blobs para construir o nosso conjunto de dados."
   ]
  },
  {
   "cell_type": "code",
   "execution_count": 2,
   "metadata": {},
   "outputs": [],
   "source": [
    "X, y = make_blobs(n_samples=40, centers=2, random_state=6)\n"
   ]
  },
  {
   "cell_type": "markdown",
   "metadata": {},
   "source": [
    "Vamos separar o conjunto em treino e teste."
   ]
  },
  {
   "cell_type": "code",
   "execution_count": 3,
   "metadata": {},
   "outputs": [],
   "source": [
    "X_train, X_test, y_train, y_test = train_test_split(X, y, test_size=0.4, stratify=y, random_state=3)"
   ]
  },
  {
   "cell_type": "markdown",
   "metadata": {},
   "source": [
    "Aqui vamos efetivamente criar o modelo e treinar com os dados criados atravez do makeblobs"
   ]
  },
  {
   "cell_type": "code",
   "execution_count": 4,
   "metadata": {},
   "outputs": [],
   "source": [
    "modelo = svm.SVC(kernel='linear', C=1000)"
   ]
  },
  {
   "cell_type": "code",
   "execution_count": 5,
   "metadata": {},
   "outputs": [
    {
     "data": {
      "text/plain": [
       "SVC(C=1000, cache_size=200, class_weight=None, coef0=0.0,\n",
       "  decision_function_shape='ovr', degree=3, gamma='auto', kernel='linear',\n",
       "  max_iter=-1, probability=False, random_state=None, shrinking=True,\n",
       "  tol=0.001, verbose=False)"
      ]
     },
     "execution_count": 5,
     "metadata": {},
     "output_type": "execute_result"
    }
   ],
   "source": [
    "modelo.fit(X_train, y_train)"
   ]
  },
  {
   "cell_type": "markdown",
   "metadata": {},
   "source": [
    "A precissão do nosso modelo ficou igual a:"
   ]
  },
  {
   "cell_type": "code",
   "execution_count": 6,
   "metadata": {},
   "outputs": [
    {
     "data": {
      "text/plain": [
       "1.0"
      ]
     },
     "execution_count": 6,
     "metadata": {},
     "output_type": "execute_result"
    }
   ],
   "source": [
    "y_pred = modelo.predict(X_test)\n",
    "accuracy_score(y_test, y_pred)"
   ]
  },
  {
   "cell_type": "markdown",
   "metadata": {},
   "source": [
    "Na pratica foram usados os mesmos dados para a explicação, os graficos mostrados são exatamente os graficos do exemplo."
   ]
  },
  {
   "cell_type": "code",
   "execution_count": null,
   "metadata": {},
   "outputs": [],
   "source": []
  }
 ],
 "metadata": {
  "kernelspec": {
   "display_name": "Python 3",
   "language": "python",
   "name": "python3"
  },
  "language_info": {
   "codemirror_mode": {
    "name": "ipython",
    "version": 3
   },
   "file_extension": ".py",
   "mimetype": "text/x-python",
   "name": "python",
   "nbconvert_exporter": "python",
   "pygments_lexer": "ipython3",
   "version": "3.6.4"
  }
 },
 "nbformat": 4,
 "nbformat_minor": 2
}
