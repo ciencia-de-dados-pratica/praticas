{
 "cells": [
  {
   "cell_type": "markdown",
   "metadata": {},
   "source": [
    "# Divisão estratificada do conjunto de dados em conjunto de treino e conjunto de teste\n",
    "\n",
    "Durante a fase de treino de um modelo em aprendizado de máquina é muito importante que possamos usar o máximo de dados disponíveis para realizar o treino deste modelo, assim o algoritmo, com mais dados, vai aprender melhor e fica mas fácil a predição dos valores."
   ]
  },
  {
   "cell_type": "code",
   "execution_count": 1,
   "metadata": {},
   "outputs": [],
   "source": [
    "from sklearn.model_selection import train_test_split\n",
    "import numpy as np"
   ]
  },
  {
   "cell_type": "markdown",
   "metadata": {},
   "source": [
    "Aqui vamos gerar uns valores de X e y para teste e explicação do exemplo."
   ]
  },
  {
   "cell_type": "code",
   "execution_count": 2,
   "metadata": {},
   "outputs": [],
   "source": [
    "X = np.arange(10)\n",
    "y = np.concatenate((np.zeros((1,5)), np.ones((1,5))), axis=1)[0]"
   ]
  },
  {
   "cell_type": "code",
   "execution_count": 3,
   "metadata": {},
   "outputs": [
    {
     "data": {
      "text/plain": [
       "(array([0, 1, 2, 3, 4, 5, 6, 7, 8, 9]),\n",
       " array([0., 0., 0., 0., 0., 1., 1., 1., 1., 1.]))"
      ]
     },
     "execution_count": 3,
     "metadata": {},
     "output_type": "execute_result"
    }
   ],
   "source": [
    "X, y"
   ]
  },
  {
   "cell_type": "markdown",
   "metadata": {},
   "source": [
    "   Perceba que nas linhas abaixo é feita apenas a  divisão dos dados sem qualquer critério, assim o vetor resultante tem mais valores 1 no y_train do que 0, isso se torna desvantajoso, pois para o modelo fica difícil identificar os valores 0, já que ele não tem muito conhecimento do próprio. Perceba também que no y_test temos mas valores 0 do que 1, isso resulta e uma má predição para o modelo, pois com pouco conhecimento nesses valores 0 o modelo pode acabar dizendo que um dado valor 0 é 1."
   ]
  },
  {
   "cell_type": "code",
   "execution_count": 4,
   "metadata": {},
   "outputs": [],
   "source": [
    "X_train, X_test, y_train, y_test = train_test_split(X, y, test_size=0.4, random_state=3)"
   ]
  },
  {
   "cell_type": "code",
   "execution_count": 5,
   "metadata": {},
   "outputs": [
    {
     "data": {
      "text/plain": [
       "(array([9, 6, 7, 0, 3, 8]),\n",
       " array([5, 4, 1, 2]),\n",
       " array([1., 1., 1., 0., 0., 1.]),\n",
       " array([1., 0., 0., 0.]))"
      ]
     },
     "execution_count": 5,
     "metadata": {},
     "output_type": "execute_result"
    }
   ],
   "source": [
    "X_train, X_test, y_train, y_test"
   ]
  },
  {
   "cell_type": "markdown",
   "metadata": {},
   "source": [
    "Neste exemplo foi pedido para o algoritmo de divisão que ele realiza a estratificação dos dados para o vetor y, ou seja neste caso ele vai tentar manter a porcentagem dos valores certas para os dados valores diferentes que estão presentes no y, ou seja, como o teste foi definido como 40% do vetor de y, então 40% dos valores de 1 e 0 estarão no vetor de y_test e os outros 60% estarão no vetor de y_train, Como demonstrado no exemplo abaixo."
   ]
  },
  {
   "cell_type": "code",
   "execution_count": 6,
   "metadata": {},
   "outputs": [],
   "source": [
    "X_train, X_test, y_train, y_test = train_test_split(X, y, test_size=0.4, stratify=y)"
   ]
  },
  {
   "cell_type": "code",
   "execution_count": 7,
   "metadata": {},
   "outputs": [
    {
     "data": {
      "text/plain": [
       "(array([4, 7, 1, 8, 5, 0]),\n",
       " array([6, 9, 2, 3]),\n",
       " array([0., 1., 0., 1., 1., 0.]),\n",
       " array([1., 1., 0., 0.]))"
      ]
     },
     "execution_count": 7,
     "metadata": {},
     "output_type": "execute_result"
    }
   ],
   "source": [
    "X_train, X_test, y_train, y_test"
   ]
  },
  {
   "cell_type": "code",
   "execution_count": null,
   "metadata": {},
   "outputs": [],
   "source": []
  }
 ],
 "metadata": {
  "kernelspec": {
   "display_name": "Python 3",
   "language": "python",
   "name": "python3"
  },
  "language_info": {
   "codemirror_mode": {
    "name": "ipython",
    "version": 3
   },
   "file_extension": ".py",
   "mimetype": "text/x-python",
   "name": "python",
   "nbconvert_exporter": "python",
   "pygments_lexer": "ipython3",
   "version": "3.6.4"
  }
 },
 "nbformat": 4,
 "nbformat_minor": 2
}
